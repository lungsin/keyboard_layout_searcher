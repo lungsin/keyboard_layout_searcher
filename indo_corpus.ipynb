{
 "cells": [
  {
   "cell_type": "code",
   "execution_count": 41,
   "metadata": {},
   "outputs": [
    {
     "name": "stdout",
     "output_type": "stream",
     "text": [
      "The autoreload extension is already loaded. To reload it, use:\n",
      "  %reload_ext autoreload\n"
     ]
    }
   ],
   "source": [
    "%load_ext autoreload\n",
    "%autoreload 2\n",
    "\n",
    "import numpy as np\n",
    "from datasets import load_dataset\n",
    "\n",
    "\n",
    "dataset = load_dataset(\n",
    "    \"oscar-corpus/OSCAR-2201\",\n",
    "    token=True,  # required\n",
    "    language=\"id\",\n",
    "    streaming=True,  # optional\n",
    "    split=\"train\",\n",
    ")"
   ]
  },
  {
   "cell_type": "code",
   "execution_count": 42,
   "metadata": {},
   "outputs": [
    {
     "name": "stderr",
     "output_type": "stream",
     "text": [
      "  0%|          | 0/708000 [00:00<?, ?it/s]"
     ]
    },
    {
     "name": "stderr",
     "output_type": "stream",
     "text": [
      "2244622it [11:23:21, 54.74it/s]                             \n"
     ]
    }
   ],
   "source": [
    "from lib import process, get_ngram_freq_dict\n",
    "from tqdm import tqdm\n",
    "\n",
    "characters_cnt = np.zeros((128), dtype=np.int64)\n",
    "bigrams_cnt = np.zeros((128, 128), dtype=np.int64)\n",
    "skipgrams_cnt = np.zeros((128, 128), dtype=np.int64)\n",
    "skipgrams2_cnt = np.zeros((128, 128), dtype=np.int64)\n",
    "skipgrams3_cnt = np.zeros((128, 128), dtype=np.int64)\n",
    "trigrams_cnt = np.zeros((128, 128, 128), dtype=np.int64)\n",
    "\n",
    "for d in tqdm(dataset, total=2244622):\n",
    "    id = d[\"id\"]\n",
    "    text = d[\"text\"]\n",
    "    process(\n",
    "        text,\n",
    "        characters_cnt,\n",
    "        bigrams_cnt,\n",
    "        skipgrams_cnt,\n",
    "        skipgrams2_cnt,\n",
    "        skipgrams3_cnt,\n",
    "        trigrams_cnt,\n",
    "    )\n",
    "    "
   ]
  },
  {
   "cell_type": "code",
   "execution_count": 43,
   "metadata": {},
   "outputs": [],
   "source": [
    "config = [\n",
    "    (characters_cnt, \"characters\"),\n",
    "    (bigrams_cnt, \"bigrams\"),\n",
    "    (skipgrams_cnt, \"skipgrams\"),\n",
    "    (skipgrams2_cnt, \"skipgrams2\"),\n",
    "    (skipgrams3_cnt, \"skipgrams3\"),\n",
    "    (trigrams_cnt, \"trigrams\"),\n",
    "]\n",
    "\n",
    "stats = dict({})\n",
    "for ngram_cnt, stats_key  in config:\n",
    "    ngram_freq = get_ngram_freq_dict(ngram_cnt)\n",
    "    stats[stats_key] = ngram_freq\n"
   ]
  },
  {
   "cell_type": "code",
   "execution_count": 44,
   "metadata": {},
   "outputs": [],
   "source": [
    "import json\n",
    "import os\n",
    "\n",
    "stats_path = \"static/stats/oscar/id.raw.json\"\n",
    "os.makedirs(os.path.dirname(stats_path), exist_ok=True)\n",
    "with open(stats_path, \"w\") as f:\n",
    "    json.dump(stats, f, indent=2)"
   ]
  }
 ],
 "metadata": {
  "kernelspec": {
   "display_name": "keyboard_layout_searcher-EdzjerMA",
   "language": "python",
   "name": "python3"
  },
  "language_info": {
   "codemirror_mode": {
    "name": "ipython",
    "version": 3
   },
   "file_extension": ".py",
   "mimetype": "text/x-python",
   "name": "python",
   "nbconvert_exporter": "python",
   "pygments_lexer": "ipython3",
   "version": "3.11.7"
  }
 },
 "nbformat": 4,
 "nbformat_minor": 2
}
